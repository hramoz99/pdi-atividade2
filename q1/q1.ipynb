{
 "cells": [
  {
   "cell_type": "code",
   "execution_count": 13,
   "metadata": {},
   "outputs": [],
   "source": [
    "import cv2\n",
    "import matplotlib.pyplot as plt\n",
    "import numpy as np"
   ]
  },
  {
   "cell_type": "code",
   "execution_count": 14,
   "metadata": {},
   "outputs": [],
   "source": [
    "## implementar a função que identifica a bandeira\n",
    "## a função deve receber uma imagem e retornar a bandeira identificada\n",
    "## a função deve retornar uma lista de tuplas, onde cada tupla contém as coordenadas de um dos cantos da bandeira\n",
    "## [(PAIS, (x1, y2), (x2, y2)`),(PAIS, (x1, y2), (x2, y2)`),(PAIS, (x1, y2), (x2, y2)`),...]\n",
    "\n",
    "def identifica_bandeira(img):\n",
    "\n",
    "    consulta_pais = []\n",
    "\n",
    "    img_gray = cv2.cvtColor(img, cv2.COLOR_BGR2GRAY)\n",
    "    _, mascara_binaria = cv2.threshold(img_gray, 50, 255, cv2.THRESH_BINARY)\n",
    "    contornos, _ = cv2.findContours(mascara_binaria, cv2.RETR_EXTERNAL, cv2.CHAIN_APPROX_SIMPLE)\n",
    "\n",
    "    paises = {\n",
    "        \"peru\": [(17, 17, 217), (255, 255, 255)],\n",
    "        \"singapura\": [(56, 41, 237), (255, 255, 255)],\n",
    "        \"monaco\": [(38, 18, 206), (255, 255, 255)],\n",
    "        \"italia\": [(54, 146, 0), (255, 255, 255), (54, 43, 206)],\n",
    "        \"irlanda\": [(98, 155, 21), (255, 255, 255), (61, 136, 254)]\n",
    "    }\n",
    "    \n",
    "    \n",
    "    for contorno in contornos:\n",
    "        x, y, w, h = cv2.boundingRect(contorno)\n",
    "        if w > 50 and h > 30:  \n",
    "            roi = img[y:y+h, x:x+w]\n",
    "            \n",
    "            for pais, cores in paises.items():\n",
    "                cores_presentes = 0\n",
    "                mascaras = []\n",
    "                \n",
    "                for cor in cores:\n",
    "                    lower = np.array([max(0, c - 20) for c in cor])\n",
    "                    upper = np.array([min(255, c + 20) for c in cor])\n",
    "                    mascara = cv2.inRange(roi, lower, upper)\n",
    "                    mascaras.append(mascara)\n",
    "                    area_cor = cv2.countNonZero(mascara)\n",
    "                    area_total = w * h\n",
    "                    if area_cor > 0.1 * area_total: \n",
    "                        cores_presentes += 1\n",
    "                \n",
    "                if cores_presentes == len(cores):\n",
    "                    if not any(x1 <= x <= x2 and y1 <= y <= y2 for _, (x1, y1), (x2, y2) in consulta_pais):\n",
    "                        consulta_pais.append((pais, (x, y), (x + w, y + h)))\n",
    "                        break \n",
    "    \n",
    "    return consulta_pais\n"
   ]
  },
  {
   "cell_type": "code",
   "execution_count": 15,
   "metadata": {},
   "outputs": [],
   "source": [
    "## nao alterar essa função\n",
    "# Função para desenhar as bandeiras identificadas\n",
    "def draw_bandeiras(lista_bandeiras, bgr):\n",
    "    try:\n",
    "        for bandeira in lista_bandeiras:\n",
    "            cv2.rectangle(bgr, bandeira[1], bandeira[2], (255, 0, 0), 5)\n",
    "            cv2.putText(bgr, bandeira[0], bandeira[1], cv2.FONT_HERSHEY_SIMPLEX, 1, (255, 0, 0), 2, cv2.LINE_AA)\n",
    "        return bgr\n",
    "    except Exception as e:\n",
    "        return bgr"
   ]
  },
  {
   "cell_type": "code",
   "execution_count": 16,
   "metadata": {},
   "outputs": [
    {
     "name": "stdout",
     "output_type": "stream",
     "text": [
      "[('irlanda', (705, 589), (971, 723)), ('italia', (343, 298), (608, 475))]\n"
     ]
    },
    {
     "data": {
      "image/png": "[encoded data removed]",
      "text/plain": [
       "<Figure size 640x480 with 1 Axes>"
      ]
     },
     "metadata": {},
     "output_type": "display_data"
    }
   ],
   "source": [
    "## Para testar a função identifica_bandeira\n",
    "\n",
    "# Você pode testar a função identifica_bandeira com as imagens de teste fornecidas\n",
    "\n",
    "# img = cv2.imread('C:/Users/hugor/Documents/pdi-atividade2/q1/img/teste1.png')\n",
    "img = cv2.imread('C:/Users/hugor/Documents/pdi-atividade2/q1/img/teste2.png')\n",
    "# img = cv2.imread('C:/Users/hugor/Documents/pdi-atividade2/q1/img/teste3.png\"')\n",
    "# img = cv2.imread('C:/Users/hugor/Documents/pdi-atividade2/q1/img/teste4.png\"')\n",
    "\n",
    "# Chamar a função identifica_bandeira\n",
    "resultado = identifica_bandeira(img)\n",
    "\n",
    "# Imprimir o resultado da função identifica_bandeira \n",
    "print(resultado)\n",
    "\n",
    "# Desenhar as bandeiras na imagem\n",
    "bgr = draw_bandeiras(resultado, img)\n",
    "plt.imshow(cv2.cvtColor(bgr, cv2.COLOR_BGR2RGB))\n",
    "plt.show()\n",
    "\n"
   ]
  },
  {
   "cell_type": "code",
   "execution_count": null,
   "metadata": {},
   "outputs": [],
   "source": []
  }
 ],
 "metadata": {
  "kernelspec": {
   "display_name": "Python 3",
   "language": "python",
   "name": "python3"
  },
  "language_info": {
   "codemirror_mode": {
    "name": "ipython",
    "version": 3
   },
   "file_extension": ".py",
   "mimetype": "text/x-python",
   "name": "python",
   "nbconvert_exporter": "python",
   "pygments_lexer": "ipython3",
   "version": "3.13.2"
  }
 },
 "nbformat": 4,
 "nbformat_minor": 2
}
